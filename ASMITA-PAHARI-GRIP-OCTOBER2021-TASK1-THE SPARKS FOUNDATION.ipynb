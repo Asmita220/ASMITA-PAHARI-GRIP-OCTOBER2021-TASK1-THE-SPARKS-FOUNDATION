{
 "cells": [
  {
   "cell_type": "markdown",
   "id": "5c769617",
   "metadata": {},
   "source": [
    "## Author: ASMITA PAHARI ##"
   ]
  },
  {
   "cell_type": "markdown",
   "id": "9e9df68b",
   "metadata": {},
   "source": [
    "## GRIP @ THE SPARKS FOUNDATION ##"
   ]
  },
  {
   "cell_type": "markdown",
   "id": "526ad942",
   "metadata": {},
   "source": [
    "## Data Science And Buisness Analytics Intern,GRIP October 2021 Batch ##"
   ]
  },
  {
   "cell_type": "markdown",
   "id": "6fc28730",
   "metadata": {},
   "source": [
    "## Task 1: Prediction Using Supervised ML ##"
   ]
  },
  {
   "cell_type": "markdown",
   "id": "05bc4631",
   "metadata": {},
   "source": [
    "### OBJECTIVE: Prediction of the Score of a Student Based on the Number of Study Hours ###"
   ]
  },
  {
   "cell_type": "markdown",
   "id": "9b0f5740",
   "metadata": {},
   "source": [
    "#### 1.Importing Libraries ####"
   ]
  },
  {
   "cell_type": "code",
   "execution_count": 45,
   "id": "6d65b7ff",
   "metadata": {},
   "outputs": [],
   "source": [
    "import numpy as np\n",
    "import pandas as pd\n",
    "import matplotlib.pyplot as plt"
   ]
  },
  {
   "cell_type": "markdown",
   "id": "f828d617",
   "metadata": {},
   "source": [
    "#### 2.Reading The Dataset ####"
   ]
  },
  {
   "cell_type": "code",
   "execution_count": 48,
   "id": "384a57f2",
   "metadata": {},
   "outputs": [
    {
     "name": "stdout",
     "output_type": "stream",
     "text": [
      "    Hours  Scores\n",
      "0     2.5      21\n",
      "1     5.1      47\n",
      "2     3.2      27\n",
      "3     8.5      75\n",
      "4     3.5      30\n",
      "5     1.5      20\n",
      "6     9.2      88\n",
      "7     5.5      60\n",
      "8     8.3      81\n",
      "9     2.7      25\n",
      "10    7.7      85\n",
      "11    5.9      62\n",
      "12    4.5      41\n",
      "13    3.3      42\n",
      "14    1.1      17\n",
      "15    8.9      95\n",
      "16    2.5      30\n",
      "17    1.9      24\n",
      "18    6.1      67\n",
      "19    7.4      69\n",
      "20    2.7      30\n",
      "21    4.8      54\n",
      "22    3.8      35\n",
      "23    6.9      76\n",
      "24    7.8      86\n"
     ]
    }
   ],
   "source": [
    "data=pd.read_csv(\"http://bit.ly/w-data\")\n",
    "print(data)"
   ]
  },
  {
   "cell_type": "markdown",
   "id": "b48f90be",
   "metadata": {},
   "source": [
    "#### 3.Finding Some Statistical Properties of The Data ####"
   ]
  },
  {
   "cell_type": "code",
   "execution_count": 27,
   "id": "a47aa804",
   "metadata": {},
   "outputs": [
    {
     "data": {
      "text/html": [
       "<div>\n",
       "<style scoped>\n",
       "    .dataframe tbody tr th:only-of-type {\n",
       "        vertical-align: middle;\n",
       "    }\n",
       "\n",
       "    .dataframe tbody tr th {\n",
       "        vertical-align: top;\n",
       "    }\n",
       "\n",
       "    .dataframe thead th {\n",
       "        text-align: right;\n",
       "    }\n",
       "</style>\n",
       "<table border=\"1\" class=\"dataframe\">\n",
       "  <thead>\n",
       "    <tr style=\"text-align: right;\">\n",
       "      <th></th>\n",
       "      <th>Hours</th>\n",
       "      <th>Scores</th>\n",
       "    </tr>\n",
       "  </thead>\n",
       "  <tbody>\n",
       "    <tr>\n",
       "      <th>count</th>\n",
       "      <td>25.000000</td>\n",
       "      <td>25.000000</td>\n",
       "    </tr>\n",
       "    <tr>\n",
       "      <th>mean</th>\n",
       "      <td>5.012000</td>\n",
       "      <td>51.480000</td>\n",
       "    </tr>\n",
       "    <tr>\n",
       "      <th>std</th>\n",
       "      <td>2.525094</td>\n",
       "      <td>25.286887</td>\n",
       "    </tr>\n",
       "    <tr>\n",
       "      <th>min</th>\n",
       "      <td>1.100000</td>\n",
       "      <td>17.000000</td>\n",
       "    </tr>\n",
       "    <tr>\n",
       "      <th>25%</th>\n",
       "      <td>2.700000</td>\n",
       "      <td>30.000000</td>\n",
       "    </tr>\n",
       "    <tr>\n",
       "      <th>50%</th>\n",
       "      <td>4.800000</td>\n",
       "      <td>47.000000</td>\n",
       "    </tr>\n",
       "    <tr>\n",
       "      <th>75%</th>\n",
       "      <td>7.400000</td>\n",
       "      <td>75.000000</td>\n",
       "    </tr>\n",
       "    <tr>\n",
       "      <th>max</th>\n",
       "      <td>9.200000</td>\n",
       "      <td>95.000000</td>\n",
       "    </tr>\n",
       "  </tbody>\n",
       "</table>\n",
       "</div>"
      ],
      "text/plain": [
       "           Hours     Scores\n",
       "count  25.000000  25.000000\n",
       "mean    5.012000  51.480000\n",
       "std     2.525094  25.286887\n",
       "min     1.100000  17.000000\n",
       "25%     2.700000  30.000000\n",
       "50%     4.800000  47.000000\n",
       "75%     7.400000  75.000000\n",
       "max     9.200000  95.000000"
      ]
     },
     "execution_count": 27,
     "metadata": {},
     "output_type": "execute_result"
    }
   ],
   "source": [
    "data.describe()"
   ]
  },
  {
   "cell_type": "markdown",
   "id": "415d91b1",
   "metadata": {},
   "source": [
    "#### 4.Finding Total Number of Rows and Columns ####"
   ]
  },
  {
   "cell_type": "code",
   "execution_count": 28,
   "id": "3b49ec87",
   "metadata": {},
   "outputs": [
    {
     "data": {
      "text/plain": [
       "(25, 2)"
      ]
     },
     "execution_count": 28,
     "metadata": {},
     "output_type": "execute_result"
    }
   ],
   "source": [
    "data.shape"
   ]
  },
  {
   "cell_type": "markdown",
   "id": "29456494",
   "metadata": {},
   "source": [
    "#### 5.Checking The Existence of is Null Values ####"
   ]
  },
  {
   "cell_type": "code",
   "execution_count": 29,
   "id": "2262c88d",
   "metadata": {},
   "outputs": [
    {
     "data": {
      "text/plain": [
       "Hours     0\n",
       "Scores    0\n",
       "dtype: int64"
      ]
     },
     "execution_count": 29,
     "metadata": {},
     "output_type": "execute_result"
    }
   ],
   "source": [
    "data.isnull().sum()"
   ]
  },
  {
   "cell_type": "markdown",
   "id": "46726835",
   "metadata": {},
   "source": [
    "#### 6. Printing The Scatter Plot to Check The Relationship Between The Variables ####"
   ]
  },
  {
   "cell_type": "code",
   "execution_count": 49,
   "id": "26b8f8fb",
   "metadata": {},
   "outputs": [
    {
     "data": {
      "image/png": "[encoded data removed]",
      "text/plain": [
       "<Figure size 432x288 with 1 Axes>"
      ]
     },
     "metadata": {
      "needs_background": "light"
     },
     "output_type": "display_data"
    }
   ],
   "source": [
    "data.plot(x=\"Hours\",y=\"Scores\",color=\"g\",style=\"o\")\n",
    "plt.xlabel(\"Hours studied\")\n",
    "plt.ylabel(\"Scores obtained\")\n",
    "plt.title(\"Hours vs Score of The Students\")\n",
    "plt.show()"
   ]
  },
  {
   "cell_type": "markdown",
   "id": "27b0d10f",
   "metadata": {},
   "source": [
    "#### 7.Manipulation Of The Data ####"
   ]
  },
  {
   "cell_type": "code",
   "execution_count": 31,
   "id": "c7e7adf6",
   "metadata": {},
   "outputs": [
    {
     "data": {
      "text/html": [
       "<div>\n",
       "<style scoped>\n",
       "    .dataframe tbody tr th:only-of-type {\n",
       "        vertical-align: middle;\n",
       "    }\n",
       "\n",
       "    .dataframe tbody tr th {\n",
       "        vertical-align: top;\n",
       "    }\n",
       "\n",
       "    .dataframe thead th {\n",
       "        text-align: right;\n",
       "    }\n",
       "</style>\n",
       "<table border=\"1\" class=\"dataframe\">\n",
       "  <thead>\n",
       "    <tr style=\"text-align: right;\">\n",
       "      <th></th>\n",
       "      <th>Hours</th>\n",
       "    </tr>\n",
       "  </thead>\n",
       "  <tbody>\n",
       "    <tr>\n",
       "      <th>0</th>\n",
       "      <td>2.5</td>\n",
       "    </tr>\n",
       "    <tr>\n",
       "      <th>1</th>\n",
       "      <td>5.1</td>\n",
       "    </tr>\n",
       "    <tr>\n",
       "      <th>2</th>\n",
       "      <td>3.2</td>\n",
       "    </tr>\n",
       "    <tr>\n",
       "      <th>3</th>\n",
       "      <td>8.5</td>\n",
       "    </tr>\n",
       "    <tr>\n",
       "      <th>4</th>\n",
       "      <td>3.5</td>\n",
       "    </tr>\n",
       "  </tbody>\n",
       "</table>\n",
       "</div>"
      ],
      "text/plain": [
       "   Hours\n",
       "0    2.5\n",
       "1    5.1\n",
       "2    3.2\n",
       "3    8.5\n",
       "4    3.5"
      ]
     },
     "execution_count": 31,
     "metadata": {},
     "output_type": "execute_result"
    }
   ],
   "source": [
    "x=data.iloc[:,:-1]\n",
    "x.head()"
   ]
  },
  {
   "cell_type": "code",
   "execution_count": 32,
   "id": "ce573710",
   "metadata": {},
   "outputs": [
    {
     "data": {
      "text/plain": [
       "0    21\n",
       "1    47\n",
       "2    27\n",
       "3    75\n",
       "4    30\n",
       "Name: Scores, dtype: int64"
      ]
     },
     "execution_count": 32,
     "metadata": {},
     "output_type": "execute_result"
    }
   ],
   "source": [
    "y=data.iloc[:,1]\n",
    "y.head()"
   ]
  },
  {
   "cell_type": "markdown",
   "id": "a50a8e4a",
   "metadata": {},
   "source": [
    "#### 8.Splitting The Dataset into Training and Testing Dataset ####"
   ]
  },
  {
   "cell_type": "code",
   "execution_count": 33,
   "id": "b54d17da",
   "metadata": {},
   "outputs": [],
   "source": [
    "from sklearn.model_selection import train_test_split\n",
    "x_train,x_test,y_train,y_test = train_test_split(x,y,test_size=0.2 , random_state = 0)"
   ]
  },
  {
   "cell_type": "markdown",
   "id": "8832cf74",
   "metadata": {},
   "source": [
    "#### 9.Fitting a Linear Regression Line to The Training Dataset ####"
   ]
  },
  {
   "cell_type": "code",
   "execution_count": 34,
   "id": "7eae0619",
   "metadata": {},
   "outputs": [],
   "source": [
    "from sklearn.linear_model import LinearRegression\n",
    "model=LinearRegression()\n",
    "model.fit(x_train,y_train)\n",
    "predicted_y=model.predict(x_train)"
   ]
  },
  {
   "cell_type": "markdown",
   "id": "a93f540a",
   "metadata": {},
   "source": [
    "#### 10.Finding The Equation of The Regression Line ####"
   ]
  },
  {
   "cell_type": "code",
   "execution_count": 51,
   "id": "1aa2eef7",
   "metadata": {},
   "outputs": [
    {
     "name": "stdout",
     "output_type": "stream",
     "text": [
      "2.018160041434683\n",
      "[9.91065648]\n",
      "the equation of the fitted regression line is:\n",
      "score= [9.91065648] *hours+ 2.018160041434683\n"
     ]
    }
   ],
   "source": [
    "print(model.intercept_)\n",
    "print(model.coef_)\n",
    "lr_regression=model.coef_*x_train+model.intercept_\n",
    "print(\"the equation of the fitted regression line is:\")\n",
    "print(\"score=\",model.coef_,\"*hours+\",model.intercept_)"
   ]
  },
  {
   "cell_type": "markdown",
   "id": "fc10bf1a",
   "metadata": {},
   "source": [
    "#### 11. Plotting The Regression Line ####"
   ]
  },
  {
   "cell_type": "code",
   "execution_count": 37,
   "id": "a69ebdad",
   "metadata": {},
   "outputs": [
    {
     "data": {
      "text/plain": [
       "Text(0.5, 1.0, 'plot of fitted regression line on the given dataset')"
      ]
     },
     "execution_count": 37,
     "metadata": {},
     "output_type": "execute_result"
    },
    {
     "data": {
      "image/png": "[encoded data removed]",
      "text/plain": [
       "<Figure size 432x288 with 1 Axes>"
      ]
     },
     "metadata": {
      "needs_background": "light"
     },
     "output_type": "display_data"
    }
   ],
   "source": [
    "plt.plot(x,y,\"o\",color=\"y\")\n",
    "plt.plot(x_train,lr_regression,color=\"b\")\n",
    "plt.xlabel(\"Hours\")\n",
    "plt.ylabel(\"Scores\")\n",
    "plt.title(\"plot of fitted regression line on the given dataset\")"
   ]
  },
  {
   "cell_type": "markdown",
   "id": "415cb0bd",
   "metadata": {},
   "source": [
    "#### 12.Predicting The Scores on The Testing Dataset ####"
   ]
  },
  {
   "cell_type": "code",
   "execution_count": 38,
   "id": "144602d5",
   "metadata": {},
   "outputs": [
    {
     "name": "stdout",
     "output_type": "stream",
     "text": [
      "the predicted values of score based on testing dataset is:  [16.88414476 33.73226078 75.357018   26.79480124 60.49103328]\n"
     ]
    }
   ],
   "source": [
    "y_pred=model.predict(x_test)\n",
    "print(\"the predicted values of score based on testing dataset is: \" ,y_pred )"
   ]
  },
  {
   "cell_type": "markdown",
   "id": "a506ad55",
   "metadata": {},
   "source": [
    "#### 13.Comparing The Actual and Predicted Scores ####"
   ]
  },
  {
   "cell_type": "code",
   "execution_count": 39,
   "id": "87a72d29",
   "metadata": {},
   "outputs": [
    {
     "data": {
      "text/html": [
       "<div>\n",
       "<style scoped>\n",
       "    .dataframe tbody tr th:only-of-type {\n",
       "        vertical-align: middle;\n",
       "    }\n",
       "\n",
       "    .dataframe tbody tr th {\n",
       "        vertical-align: top;\n",
       "    }\n",
       "\n",
       "    .dataframe thead th {\n",
       "        text-align: right;\n",
       "    }\n",
       "</style>\n",
       "<table border=\"1\" class=\"dataframe\">\n",
       "  <thead>\n",
       "    <tr style=\"text-align: right;\">\n",
       "      <th></th>\n",
       "      <th>Actual</th>\n",
       "      <th>Predicted</th>\n",
       "    </tr>\n",
       "  </thead>\n",
       "  <tbody>\n",
       "    <tr>\n",
       "      <th>5</th>\n",
       "      <td>20</td>\n",
       "      <td>16.884145</td>\n",
       "    </tr>\n",
       "    <tr>\n",
       "      <th>2</th>\n",
       "      <td>27</td>\n",
       "      <td>33.732261</td>\n",
       "    </tr>\n",
       "    <tr>\n",
       "      <th>19</th>\n",
       "      <td>69</td>\n",
       "      <td>75.357018</td>\n",
       "    </tr>\n",
       "    <tr>\n",
       "      <th>16</th>\n",
       "      <td>30</td>\n",
       "      <td>26.794801</td>\n",
       "    </tr>\n",
       "    <tr>\n",
       "      <th>11</th>\n",
       "      <td>62</td>\n",
       "      <td>60.491033</td>\n",
       "    </tr>\n",
       "  </tbody>\n",
       "</table>\n",
       "</div>"
      ],
      "text/plain": [
       "    Actual  Predicted\n",
       "5       20  16.884145\n",
       "2       27  33.732261\n",
       "19      69  75.357018\n",
       "16      30  26.794801\n",
       "11      62  60.491033"
      ]
     },
     "execution_count": 39,
     "metadata": {},
     "output_type": "execute_result"
    }
   ],
   "source": [
    "df=pd.DataFrame({\"Actual\": y_test,\"Predicted\": y_pred})\n",
    "df"
   ]
  },
  {
   "cell_type": "markdown",
   "id": "f476b442",
   "metadata": {},
   "source": [
    "#### 14.Comparing the Actual vs. Predicted Scores Using A Bar Graph ####"
   ]
  },
  {
   "cell_type": "code",
   "execution_count": 40,
   "id": "96fab972",
   "metadata": {},
   "outputs": [
    {
     "data": {
      "image/png": "[encoded data removed]",
      "text/plain": [
       "<Figure size 432x288 with 1 Axes>"
      ]
     },
     "metadata": {
      "needs_background": "light"
     },
     "output_type": "display_data"
    }
   ],
   "source": [
    "df.plot(kind=\"bar\",color=(\"y\",\"b\"))\n",
    "plt.xlabel(\"Index\")\n",
    "plt.ylabel(\"Scores\")\n",
    "plt.title(\"Comparison between actual and predicted values of scores\")\n",
    "plt.show()"
   ]
  },
  {
   "cell_type": "markdown",
   "id": "1a8e23cc",
   "metadata": {},
   "source": [
    "#### 15.Evaluating The Model ####"
   ]
  },
  {
   "cell_type": "code",
   "execution_count": 50,
   "id": "dbeebaca",
   "metadata": {},
   "outputs": [
    {
     "name": "stdout",
     "output_type": "stream",
     "text": [
      "Mean Absolute Error: 4.183859899002975\n",
      "Mean Squared Error: 21.5987693072174\n",
      "Root Mean Squared Error: 4.6474476121003665\n",
      "R Squared Score for the testing dataset: 0.9454906892105356\n"
     ]
    }
   ],
   "source": [
    "from sklearn import metrics\n",
    "print(\"Mean Absolute Error:\", metrics.mean_absolute_error(y_test,y_pred))\n",
    "print(\"Mean Squared Error:\",metrics.mean_squared_error(y_test,y_pred))\n",
    "print(\"Root Mean Squared Error:\",np.sqrt(metrics.mean_squared_error(y_test,y_pred)))\n",
    "print(\"R Squared Score for the testing dataset:\",metrics.r2_score(y_test,y_pred))"
   ]
  },
  {
   "cell_type": "markdown",
   "id": "d11ed48c",
   "metadata": {},
   "source": [
    "#### 16. Predicting The Percentage Score Of a Student Who Studies for 9.25 Hours Per Day ####"
   ]
  },
  {
   "cell_type": "code",
   "execution_count": 42,
   "id": "b03a0beb",
   "metadata": {},
   "outputs": [
    {
     "name": "stdout",
     "output_type": "stream",
     "text": [
      "the expected percentage score of a student studying for 9.25 hours per day is: [93.69173249]\n"
     ]
    }
   ],
   "source": [
    "print(\"the expected percentage score of a student studying for 9.25 hours per day is:\",model.predict([[9.25]]))"
   ]
  },
  {
   "cell_type": "markdown",
   "id": "afc8e124",
   "metadata": {},
   "source": [
    "### CONCLUSION ###"
   ]
  },
  {
   "cell_type": "markdown",
   "id": "59252cc6",
   "metadata": {},
   "source": [
    "*In this above task the best model is fitted for the given dataset and the goodness of fit is also evaluated.Here the R squared Score for the testing dataset is 94.54%, which is a very good score. Hence it is concluded as the best fit model. and The expected percentage score of a student studying for 9.25 hours per day is 93.69%*"
   ]
  },
  {
   "cell_type": "markdown",
   "id": "6732265d",
   "metadata": {},
   "source": [
    "#### THANK YOU ####"
   ]
  }
 ],
 "metadata": {
  "kernelspec": {
   "display_name": "Python 3",
   "language": "python",
   "name": "python3"
  },
  "language_info": {
   "codemirror_mode": {
    "name": "ipython",
    "version": 3
   },
   "file_extension": ".py",
   "mimetype": "text/x-python",
   "name": "python",
   "nbconvert_exporter": "python",
   "pygments_lexer": "ipython3",
   "version": "3.8.8"
  }
 },
 "nbformat": 4,
 "nbformat_minor": 5
}
